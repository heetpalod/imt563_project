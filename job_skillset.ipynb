{
 "cells": [
  {
   "cell_type": "code",
   "execution_count": null,
   "metadata": {},
   "outputs": [],
   "source": [
    "import mysql.connector"
   ]
  },
  {
   "cell_type": "markdown",
   "metadata": {},
   "source": [
    "**Pulling data to Python to perform matching**"
   ]
  },
  {
   "cell_type": "code",
   "execution_count": null,
   "metadata": {},
   "outputs": [],
   "source": [
    "cnx = mysql.connector.connect(host = '127.0.0.1',database='test',user='root',password='')\n",
    "jobs_desc = \"\"\"\n",
    "SELECT * FROM job_post;\n",
    "\"\"\"\n",
    "skills = \"\"\"SELECT * FROM skillset;\"\"\"\n",
    "candidate_skills = \"\"\"SELECT * FROM user_skillset;\"\"\"\n",
    "\n",
    "def ret_results(q):\n",
    "    conn = cnx.cursor()\n",
    "    conn.execute(q)\n",
    "    ls = []\n",
    "    for x in conn:\n",
    "        ls.append(x)\n",
    "    return ls\n",
    "\n",
    "jds = ret_results(jobs_desc)\n",
    "skill_ls = ret_results(skills)\n",
    "user_skills = ret_results(candidate_skills)"
   ]
  },
  {
   "cell_type": "code",
   "execution_count": null,
   "metadata": {},
   "outputs": [],
   "source": [
    "jds = [x[4] for x in jds]\n"
   ]
  },
  {
   "cell_type": "code",
   "execution_count": null,
   "metadata": {},
   "outputs": [],
   "source": [
    "jds_id = [x[0] for x in jds]"
   ]
  },
  {
   "cell_type": "code",
   "execution_count": null,
   "metadata": {},
   "outputs": [],
   "source": [
    "skill_ls\n",
    "skills_dt = {v:k for (k,v) in skill_ls}"
   ]
  },
  {
   "cell_type": "code",
   "execution_count": null,
   "metadata": {},
   "outputs": [],
   "source": [
    "skls = ['Python', 'Tableau', 'Power BI', 'TensorFlow', 'NoSQL', 'PHP', 'Angluar', 'Django', 'Javascript', 'Java', 'SQL', 'MS Word', 'Leadership', 'CSS', 'Fitness', 'AWS', 'Azure','CosmosDB', 'MongoDB', 'SSIS']\n",
    "len(skls)\n",
    "skls_st = set(skls)"
   ]
  },
  {
   "cell_type": "code",
   "execution_count": null,
   "metadata": {},
   "outputs": [],
   "source": [
    "from random import sample\n",
    "skillzzzz = sample(skls, 9)\n",
    "skillzzzz"
   ]
  },
  {
   "cell_type": "markdown",
   "metadata": {},
   "source": [
    "**Skills for each job ID**"
   ]
  },
  {
   "cell_type": "code",
   "execution_count": null,
   "metadata": {},
   "outputs": [],
   "source": [
    "import collections\n",
    "cdt = collections.defaultdict(list)\n",
    "x = 0\n",
    "for id in job_ids:\n",
    "    jd = test[x]\n",
    "    x += 1\n",
    "    jd_skills = []\n",
    "    for word in jd.split():\n",
    "        if word in skls_st:\n",
    "            jd_skills.append(word)      \n",
    "    cdt[id] = jd_skills\n",
    "\n",
    "cdt"
   ]
  },
  {
   "cell_type": "code",
   "execution_count": null,
   "metadata": {},
   "outputs": [],
   "source": [
    "skls_st"
   ]
  },
  {
   "cell_type": "code",
   "execution_count": null,
   "metadata": {},
   "outputs": [],
   "source": [
    "skill_id_dt = dict()\n",
    "for ind in range(1,21):\n",
    "    skill_id_dt[skls[ind - 1]] = ind\n",
    "skill_id_dt"
   ]
  },
  {
   "cell_type": "markdown",
   "metadata": {},
   "source": [
    "**Inserting skills for each job**"
   ]
  },
  {
   "cell_type": "code",
   "execution_count": null,
   "metadata": {},
   "outputs": [],
   "source": [
    "st = ''\n",
    "for job_id, skills in cdt.items():\n",
    "    for skl in skills:\n",
    "        qr = (\"INSERT INTO job_post_skillset (Job_ID, Skillset_ID) VALUES ({},{})\".format(job_id, skill_id_dt[skl]))\n",
    "        st += qr\n",
    "        conn = cnx.cursor()\n",
    "        conn.execute(qr)\n",
    "        \n",
    "        \n",
    "    "
   ]
  },
  {
   "cell_type": "markdown",
   "metadata": {},
   "source": [
    "## Comparing similarity of jobs with candidate skillset\n",
    "\n",
    "We use a metric called jaccard similarity, which is basically the proportion of common word between two strings/iterators."
   ]
  },
  {
   "cell_type": "code",
   "execution_count": null,
   "metadata": {},
   "outputs": [],
   "source": [
    "def get_jaccard_sim(x, y): \n",
    "    a = set(x) \n",
    "    b = set(y)\n",
    "    c = a.intersection(b)\n",
    "    return round(float(len(c)) / (len(a) + len(b) - len(c)),2)"
   ]
  },
  {
   "cell_type": "code",
   "execution_count": null,
   "metadata": {},
   "outputs": [],
   "source": [
    "import collections\n",
    "user_dt = collections.defaultdict(list)\n",
    "for (id, skill) in user_skills:  \n",
    "    user_dt[id].append(skill)"
   ]
  },
  {
   "cell_type": "code",
   "execution_count": null,
   "metadata": {},
   "outputs": [],
   "source": [
    "user_job_match_dt = collections.defaultdict(list)\n",
    "for user in user_dt.items():\n",
    "    skills_candidate = user[1]\n",
    "    for job in cdt.items():\n",
    "        skills_job = job[1]\n",
    "        score = get_jaccard_sim(skills_candidate, skills_job)\n",
    "        user_job_match_dt[user[0]].append((job[0], score))\n",
    "\n",
    "#We finally sort the jobs for each user based on higest jaccard similarity.\n",
    "for (x,y) in user_job_match_dt.items():\n",
    "    temp = sorted(y, key = lambda z: z[1], reverse = True)\n",
    "    user_job_match_dt[x] = temp\n",
    "    \n"
   ]
  }
 ],
 "metadata": {
  "kernelspec": {
   "display_name": "Python 3",
   "language": "python",
   "name": "python3"
  },
  "language_info": {
   "codemirror_mode": {
    "name": "ipython",
    "version": 3
   },
   "file_extension": ".py",
   "mimetype": "text/x-python",
   "name": "python",
   "nbconvert_exporter": "python",
   "pygments_lexer": "ipython3",
   "version": "3.7.4"
  }
 },
 "nbformat": 4,
 "nbformat_minor": 2
}
